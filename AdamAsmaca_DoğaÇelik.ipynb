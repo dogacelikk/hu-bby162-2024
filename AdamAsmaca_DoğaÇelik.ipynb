{
  "nbformat": 4,
  "nbformat_minor": 0,
  "metadata": {
    "colab": {
      "provenance": [],
      "authorship_tag": "ABX9TyOC/ptEAlXo3XCW4xxB/TgG",
      "include_colab_link": true
    },
    "kernelspec": {
      "name": "python3",
      "display_name": "Python 3"
    },
    "language_info": {
      "name": "python"
    }
  },
  "cells": [
    {
      "cell_type": "markdown",
      "metadata": {
        "id": "view-in-github",
        "colab_type": "text"
      },
      "source": [
        "<a href=\"https://colab.research.google.com/github/dogacelikk/hu-bby162-2024/blob/main/AdamAsmaca_Do%C4%9Fa%C3%87elik.ipynb\" target=\"_parent\"><img src=\"https://colab.research.google.com/assets/colab-badge.svg\" alt=\"Open In Colab\"/></a>"
      ]
    },
    {
      "cell_type": "code",
      "execution_count": null,
      "metadata": {
        "colab": {
          "base_uri": "https://localhost:8080/"
        },
        "collapsed": true,
        "id": "kfhp-qNe42gh",
        "outputId": "30989a29-cb21-423c-c32a-bce4db45e6e7"
      },
      "outputs": [
        {
          "output_type": "stream",
          "name": "stdout",
          "text": [
            "Adam Asmaca oyununa hoş geldiniz!\n",
            "Lütfen bir seviye seçin:\n",
            "1. Kolay (6 can)\n",
            "2. Orta (4 can)\n",
            "3. Zor (2 can)\n"
          ]
        }
      ],
      "source": [
        "from random import choice\n",
        "\n",
        "def adam_asmaca():\n",
        "    def seviye_sec():\n",
        "        print(\"Adam Asmaca oyununa hoş geldiniz!\")\n",
        "        print(\"Lütfen bir seviye seçin:\")\n",
        "        print(\"1. Kolay (6 can)\")\n",
        "        print(\"2. Orta (4 can)\")\n",
        "        print(\"3. Zor (2 can)\")\n",
        "        secim = input(\"Seviye seçiniz (1-3): \")\n",
        "        while secim not in [\"1\", \"2\", \"3\"]:\n",
        "            secim = input(\"Lütfen geçerli bir seviye seçimi yapınız (1-3): \")\n",
        "        return int(secim)\n",
        "\n",
        "    def kelime_sec():\n",
        "        kelimeler = [\"soda\", \"ayran\", \"çay\", \"kahve\"]\n",
        "        return choice(kelimeler)\n",
        "\n",
        "    def harf_gir():\n",
        "        return input(\"Bir harf giriniz: \").lower()\n",
        "\n",
        "    def oyun_bitti_mi():\n",
        "        return \"_\" not in dizilenKelime or adamCan == 0\n",
        "\n",
        "    def oyun_sonucu():\n",
        "        if \"_\" not in dizilenKelime:\n",
        "            print(\"Tebrikler! Kelimeyi buldunuz!\")\n",
        "        else:\n",
        "            print(\"Üzgünüz! Adam asıldı. Doğru kelime '\" + secilenKelime + \"' idi.\")\n",
        "\n",
        "    def yeniden_oyna():\n",
        "        return input(\"Yeniden oynamak istiyor musunuz? (Evet/Hayır): \").lower() == \"evet\"\n",
        "\n",
        "    adamCan = {1: 6, 2: 4, 3: 2}[seviye_sec()]\n",
        "    secilenKelime = kelime_sec()\n",
        "    dizilenKelime = [\"_\" for _ in secilenKelime]\n",
        "\n",
        "    print(\"Adam Asmaca oyununa başlıyoruz!\")\n",
        "    print(\"Tahmin edilecek kelime: \" + \" \".join(dizilenKelime))\n",
        "\n",
        "    while not oyun_bitti_mi():\n",
        "        girilenHarf = harf_gir()\n",
        "        if girilenHarf in secilenKelime:\n",
        "            print(\"Doğru tahmin! '\" + girilenHarf + \"' harfi kelimenin içinde bulunuyor.\")\n",
        "            for i in range(len(secilenKelime)):\n",
        "                if secilenKelime[i] == girilenHarf:\n",
        "                    dizilenKelime[i] = girilenHarf\n",
        "        else:\n",
        "            print(\"Üzgünüz! Bu harf kelimenin içinde bulunmuyor.\")\n",
        "            adamCan -= 1\n",
        "        print(\"Kalan can:\", adamCan)\n",
        "        print(\"Tahmin edilen kelime:\", \" \".join(dizilenKelime))\n",
        "\n",
        "    oyun_sonucu()\n",
        "    if yeniden_oyna():\n",
        "        adam_asmaca()\n",
        "    else:\n",
        "        print(\"Oyundan çıkılıyor. Güle güle!\")\n",
        "\n",
        "adam_asmaca()"
      ]
    }
  ]
}