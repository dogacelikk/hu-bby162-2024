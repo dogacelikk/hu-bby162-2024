{
  "nbformat": 4,
  "nbformat_minor": 0,
  "metadata": {
    "colab": {
      "provenance": [],
      "authorship_tag": "ABX9TyM9TKgQp0rmqYYJwFuOaL0K",
      "include_colab_link": true
    },
    "kernelspec": {
      "name": "python3",
      "display_name": "Python 3"
    },
    "language_info": {
      "name": "python"
    }
  },
  "cells": [
    {
      "cell_type": "markdown",
      "metadata": {
        "id": "view-in-github",
        "colab_type": "text"
      },
      "source": [
        "<a href=\"https://colab.research.google.com/github/dogacelikk/hu-bby162-2024/blob/main/veriSeti.ipynb\" target=\"_parent\"><img src=\"https://colab.research.google.com/assets/colab-badge.svg\" alt=\"Open In Colab\"/></a>"
      ]
    },
    {
      "cell_type": "code",
      "execution_count": null,
      "metadata": {
        "id": "dr7B_ckaM4At"
      },
      "outputs": [],
      "source": [
        "!pip list"
      ]
    },
    {
      "cell_type": "code",
      "source": [
        "import pandas as pd\n",
        "\n",
        "df = pd.read_csv('/content/mudahale-edilen-sokak-hayvanlari.csv', sep=';')\n",
        "\n",
        "print(df)\n"
      ],
      "metadata": {
        "id": "h-BeJ5HFNxv5"
      },
      "execution_count": null,
      "outputs": []
    },
    {
      "cell_type": "code",
      "source": [
        "import pandas as pd\n",
        "\n",
        "df = pd.read_csv('/content/mudahale-edilen-sokak-hayvanlari.csv' , sep=';')\n",
        "\n",
        "print(df.head(10))\n"
      ],
      "metadata": {
        "id": "ZdRFdoZJWTGP"
      },
      "execution_count": null,
      "outputs": []
    },
    {
      "cell_type": "code",
      "source": [
        "import pandas as pd\n",
        "\n",
        "df = pd.read_csv('/content/mudahale-edilen-sokak-hayvanlari.csv', sep=';')\n",
        "\n",
        "print(df)\n",
        "print(df.loc[0])"
      ],
      "metadata": {
        "id": "jEF61zCwWY2G"
      },
      "execution_count": null,
      "outputs": []
    }
  ]
}