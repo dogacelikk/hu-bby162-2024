{
  "nbformat": 4,
  "nbformat_minor": 0,
  "metadata": {
    "colab": {
      "provenance": [],
      "authorship_tag": "ABX9TyMOKulmeWlMunWfwR81jroW",
      "include_colab_link": true
    },
    "kernelspec": {
      "name": "python3",
      "display_name": "Python 3"
    },
    "language_info": {
      "name": "python"
    }
  },
  "cells": [
    {
      "cell_type": "markdown",
      "metadata": {
        "id": "view-in-github",
        "colab_type": "text"
      },
      "source": [
        "<a href=\"https://colab.research.google.com/github/dogacelikk/hu-bby162-2024/blob/main/web%C3%96r%C3%BCmce%C4%9FiPrototipi.ipynb\" target=\"_parent\"><img src=\"https://colab.research.google.com/assets/colab-badge.svg\" alt=\"Open In Colab\"/></a>"
      ]
    },
    {
      "cell_type": "code",
      "execution_count": 1,
      "metadata": {
        "colab": {
          "base_uri": "https://localhost:8080/"
        },
        "id": "tUEXUu93TCLw",
        "outputId": "f22cb90b-d168-4911-8f71-ecaff84dd8f4"
      },
      "outputs": [
        {
          "output_type": "stream",
          "name": "stdout",
          "text": [
            "Requirement already satisfied: requests in /usr/local/lib/python3.10/dist-packages (2.32.3)\n",
            "Requirement already satisfied: beautifulsoup4 in /usr/local/lib/python3.10/dist-packages (4.12.3)\n",
            "Requirement already satisfied: charset-normalizer<4,>=2 in /usr/local/lib/python3.10/dist-packages (from requests) (3.4.0)\n",
            "Requirement already satisfied: idna<4,>=2.5 in /usr/local/lib/python3.10/dist-packages (from requests) (3.10)\n",
            "Requirement already satisfied: urllib3<3,>=1.21.1 in /usr/local/lib/python3.10/dist-packages (from requests) (2.2.3)\n",
            "Requirement already satisfied: certifi>=2017.4.17 in /usr/local/lib/python3.10/dist-packages (from requests) (2024.8.30)\n",
            "Requirement already satisfied: soupsieve>1.2 in /usr/local/lib/python3.10/dist-packages (from beautifulsoup4) (2.6)\n"
          ]
        }
      ],
      "source": [
        "!pip install requests beautifulsoup4\n",
        "\n",
        "import requests\n",
        "from bs4 import BeautifulSoup"
      ]
    },
    {
      "cell_type": "code",
      "source": [
        "start_url = input(\"Başlangıç URL'sini girin: \")\n",
        "depth = int(input(\"Tarama derinliğini girin (1-3): \"))\n",
        "\n",
        "results = []\n",
        "\n",
        "def scrape(url, level):\n",
        "    if level > depth:\n",
        "        return\n",
        "\n",
        "    try:\n",
        "        response = requests.get(url)\n",
        "        response.raise_for_status()\n",
        "\n",
        "        soup = BeautifulSoup(response.text, 'html.parser')\n",
        "        title = soup.title.string if soup.title else 'Başlık Bulunamadı'\n",
        "\n",
        "        results.append({'URL': url, 'Başlık': title, 'Seviye': level})\n",
        "\n",
        "        links = soup.find_all('a', href=True)\n",
        "        for link in links:\n",
        "            href = link['href']\n",
        "            next_url = requests.compat.urljoin(url, href)\n",
        "            scrape(next_url, level + 1)\n",
        "\n",
        "    except requests.exceptions.RequestException as e:\n",
        "        print(f\"HTTP Hatası: {e}\")\n",
        "    except Exception as e:\n",
        "        print(f\"Hata: {e}\")\n",
        "\n",
        "scrape(start_url, 1)\n",
        "\n",
        "print(\"Tarama tamamlandı. Ziyaret edilen sayfalar:\")\n",
        "for result in results:\n",
        "    print(f\"URL: {result['URL']}, Başlık: {result['Başlık']}, Seviye: {result['Seviye']}\")\n",
        "\n",
        "\n",
        "\n"
      ],
      "metadata": {
        "id": "1loQxzr4NP3j"
      },
      "execution_count": null,
      "outputs": []
    }
  ]
}