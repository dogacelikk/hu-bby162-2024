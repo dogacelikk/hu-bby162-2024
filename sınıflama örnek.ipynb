{
  "nbformat": 4,
  "nbformat_minor": 0,
  "metadata": {
    "colab": {
      "provenance": [],
      "authorship_tag": "ABX9TyPuZL3tHrCUWin+gpYgS/Fw",
      "include_colab_link": true
    },
    "kernelspec": {
      "name": "python3",
      "display_name": "Python 3"
    },
    "language_info": {
      "name": "python"
    }
  },
  "cells": [
    {
      "cell_type": "markdown",
      "metadata": {
        "id": "view-in-github",
        "colab_type": "text"
      },
      "source": [
        "<a href=\"https://colab.research.google.com/github/dogacelikk/hu-bby162-2024/blob/main/s%C4%B1n%C4%B1flama%20%C3%B6rnek.ipynb\" target=\"_parent\"><img src=\"https://colab.research.google.com/assets/colab-badge.svg\" alt=\"Open In Colab\"/></a>"
      ]
    },
    {
      "cell_type": "code",
      "execution_count": 33,
      "metadata": {
        "id": "Xv6zjZah-rKp"
      },
      "outputs": [],
      "source": [
        "class Araba:\n",
        "    renk = \"Yeşil\"\n",
        "    vites = \"Otomatik\"\n",
        "    def ozellikler(self):\n",
        "      ozellikDetay = \"Bu araba %s renkli, ve %s viteslidir\" % (self.renk, self.vites)\n",
        "      return ozellikDetay"
      ]
    },
    {
      "cell_type": "code",
      "source": [
        "a1 =Araba()\n",
        "a2 = Araba()\n",
        "\n",
        "print(\"Araba 1: \" + a1.ozellikler())\n",
        "\n",
        "a2.renk = \"Siyah\"\n",
        "a2.vites = \"Manuel\"\n",
        "\n",
        "print(\"Araba 2: \" + a2.ozellikler())\n",
        "\n"
      ],
      "metadata": {
        "colab": {
          "base_uri": "https://localhost:8080/"
        },
        "id": "ueE-ZpX2Bxym",
        "outputId": "682cce31-d6d2-466c-d6e0-25ca899e8dda"
      },
      "execution_count": 34,
      "outputs": [
        {
          "output_type": "stream",
          "name": "stdout",
          "text": [
            "Araba 1: Bu araba Yeşil renkli, ve Otomatik viteslidir\n",
            "Araba 2: Bu araba Siyah renkli, ve Manuel viteslidir\n"
          ]
        }
      ]
    }
  ]
}