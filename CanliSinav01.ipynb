{
  "nbformat": 4,
  "nbformat_minor": 0,
  "metadata": {
    "colab": {
      "provenance": [],
      "include_colab_link": true
    },
    "kernelspec": {
      "name": "python3",
      "display_name": "Python 3"
    },
    "language_info": {
      "name": "python"
    }
  },
  "cells": [
    {
      "cell_type": "markdown",
      "metadata": {
        "id": "view-in-github",
        "colab_type": "text"
      },
      "source": [
        "<a href=\"https://colab.research.google.com/github/dogacelikk/hu-bby162-2024/blob/main/CanliSinav01.ipynb\" target=\"_parent\"><img src=\"https://colab.research.google.com/assets/colab-badge.svg\" alt=\"Open In Colab\"/></a>"
      ]
    },
    {
      "cell_type": "markdown",
      "source": [
        "**Canlı Sınav 01'e hoşgeldiniz!**"
      ],
      "metadata": {
        "id": "ItmuxWgBbkC1"
      }
    },
    {
      "cell_type": "markdown",
      "source": [
        "Canlı sınav, bilgisayar laboratuvarında bilgisayar başında yapılan ve teslim edilen projeyi ifade etmektedir. Canlı sınavda yazmış olduğunuz kodlar sizin sorumluluğunuzdadır ve gerekirse hangi kodu neden yazdığınızı açık bir şekilde anlatabilmeniz gerekmektedir. Canlı sınav sırasında İnternet üzerindeki kaynaklar kullanılabilir ancak başka bir kişiden destek alınamaz.\n",
        "\n",
        "Canlı sınavın teslim şekli önceki proje çalışmasında olduğu gibidir. \"Canlı Sınav 01\" adlı Colab not defterinin bir kopyasını çıkarmalı, size ait olan bu kopya üzerinde soruları cevaplamalı, GitHub'daki ders deponuza size ait kopyayı yüklemeli ve not defterinin adresini metin alanına yazarak göndermelisiniz.\n",
        "\n",
        "Canlı sınavın doğru şekilde tamamlanması da sınavın önemli bir parçasıdır. Sınav için gönderdiğiniz adresi kontrol ediniz ve doğru dosyayı depoya yerleştirdiği bizden emin olunuz. Teslim sürecinde yapılan hatalar sınavdan 0 puan almanıza yol açabilir!\n",
        "\n",
        "Önemli Not: Soruları cecaplarken sadece şu ana kadar öğrendiğiniz kod yapılarını kullanmanız gerekmektedir!!!"
      ],
      "metadata": {
        "id": "KGjdjR5RbTgH"
      }
    },
    {
      "cell_type": "markdown",
      "source": [
        "**----- Sorular -----**"
      ],
      "metadata": {
        "id": "zBvdh4s8cOqM"
      }
    },
    {
      "cell_type": "markdown",
      "source": [
        "**Soru 1:** Bir giriş sisteminde kullanıcı adı olarak eposta ya da telefon numarası kullanılabilmektedir. Şifre ise tektir. Klavyeden doğru kullanıcı adı ve şifre girildiğinde ekrana \" Sisteme giriş yaptınız\" , yanlış kullanıcı adı girildiğinde \"kullanıcı adı hatalı\" , yanlış şifre girildiğinde \"şifre hatalı\" bilgisi yazdırılmalıdır. Kullanıcı adı hatalı ise şifre sorma adımına geçilmemelidir."
      ],
      "metadata": {
        "id": "ma0FVqgQiLBe"
      }
    },
    {
      "cell_type": "code",
      "source": [
        "#Soru 1 bu bölümde kodlanmalıdır\n",
        "eposta = \"a@a.net\"\n",
        "tel = \"532\"\n",
        "\n",
        "kullanici_veritabani = {\n",
        "    eposta: \"sifre123\",\n",
        "    tel: \"sifre456\"\n",
        "}\n",
        "\n",
        "kullanici_adi = input(\"Kullanıcı adınızı (e-posta veya telefon numarası) girin: \")\n",
        "\n",
        "if kullanici_adi in kullanici_veritabani:\n",
        "    sifre = input(\"Şifrenizi girin: \")\n",
        "    dogru_sifre = kullanici_veritabani[kullanici_adi]\n",
        "    if sifre == dogru_sifre:\n",
        "        print(\"Sisteme giriş yaptınız.\")\n",
        "    else:\n",
        "        print(\"Şifre hatalı.\")\n",
        "else:\n",
        "    print(\"Kullanıcı adı hatalı.\")\n",
        "\n",
        "\n",
        "\n"
      ],
      "metadata": {
        "id": "Fj7wkLMcjp_7",
        "outputId": "1668d3ed-9d55-4528-b423-b10c89d590bc",
        "colab": {
          "base_uri": "https://localhost:8080/"
        }
      },
      "execution_count": 42,
      "outputs": [
        {
          "output_type": "stream",
          "name": "stdout",
          "text": [
            "Kullanıcı adınızı (e-posta veya telefon numarası) girin: 532\n",
            "Şifrenizi girin: 532\n",
            "Şifre hatalı.\n"
          ]
        }
      ]
    },
    {
      "cell_type": "markdown",
      "source": [
        "**Soru 2:** Klavyeden girilen bir insan ismindeki harf sayısına göre ekrana bir cümle yazdırınız. Örneğin 4 harfli bir isim girildiğinde ekrana \"Dört dörtlük bir isim\", 6 harfli bir isim girildiğinde ekrana \"Altıncı hissin kuvvetli\" yazılabilmelidir. Klavyeden üçten az ya da yediden çok harfe sahip bir isim girildiğinde ise ekrana \"isminiz sisteme uygun değildir\" mesajı yazdırılmalıdır."
      ],
      "metadata": {
        "id": "uZDiXJARgK4o"
      }
    },
    {
      "cell_type": "code",
      "source": [
        "#Soru 2 bu bölümde kodlanmalıdır\n",
        "isim = input(\"Lütfen bir isim girin: \")\n",
        "harf_sayisi = len(isim)\n",
        "if harf_sayisi < 3 or harf_sayisi > 7:\n",
        "    print(\"İsminiz sisteme uygun değildir.\")\n",
        "else:\n",
        "    if harf_sayisi == 3:\n",
        "        print(\"Üç maymunu oynamaya ne dersiniz?\")\n",
        "    elif harf_sayisi == 4:\n",
        "        print(\"Dört dörtlük bir isim.\")\n",
        "    elif harf_sayisi == 5:\n",
        "        print(\"Beş duyu organıyla tanınır.\")\n",
        "    elif harf_sayisi == 6:\n",
        "        print(\"Altıncı hissin kuvvetli.\")\n",
        "    elif harf_sayisi == 7:\n",
        "       print(\"Yedinci cennetten gelmiş gibi.\")\n",
        "\n"
      ],
      "metadata": {
        "id": "no7Zd1ZCh5U3",
        "outputId": "9acb7fd2-e29a-4780-acfb-dd526c166e23",
        "colab": {
          "base_uri": "https://localhost:8080/"
        }
      },
      "execution_count": 34,
      "outputs": [
        {
          "output_type": "stream",
          "name": "stdout",
          "text": [
            "Lütfen bir isim girin: a<aa\n",
            "Dört dörtlük bir isim.\n"
          ]
        }
      ]
    },
    {
      "cell_type": "markdown",
      "source": [
        "**Soru 3:** 5 öğenin yer aldığı bir kelime tahmin oyunu oluşturun. Kelimeler bir liste içinde yer almalıdır. Klavyeden girilen kelime liste içinde yer alan kelimelerden biri ise ekrana \"bravo oyunu kazandınız\", aksi halde ise ekrana \"üzgünüm oyunu kaybettiniz\" mesajı gelmelidir."
      ],
      "metadata": {
        "id": "HnIqbjcCeNEV"
      }
    },
    {
      "cell_type": "code",
      "source": [
        "#Soru 3 bu bölümde kodlanmalıdır\n",
        "kelimeler = [\"elma\", \"armut\", \"kiraz\", \"portakal\", \"çilek\"]\n",
        "\n",
        "tahmin = input(\"Tahmininizi girin: \")\n",
        "\n",
        "if tahmin in kelimeler:\n",
        "    print(\"Bravo, oyunu kazandınız!\")\n",
        "else:\n",
        "    print(\"Üzgünüm, oyunu kaybettiniz.\")\n",
        "\n",
        "\n",
        "\n",
        "\n",
        "\n",
        "\n",
        "\n"
      ],
      "metadata": {
        "id": "SjzG5g3ffTyv",
        "outputId": "d3c4d504-af87-4fbe-b8f6-970df1e3bd68",
        "colab": {
          "base_uri": "https://localhost:8080/"
        }
      },
      "execution_count": 37,
      "outputs": [
        {
          "output_type": "stream",
          "name": "stdout",
          "text": [
            "Tahmininizi girin: jjj\n",
            "Üzgünüm, oyunu kaybettiniz.\n"
          ]
        }
      ]
    },
    {
      "cell_type": "markdown",
      "source": [
        "**Soru 4:** 5 öğenin yer aldığı bir sözlük oluşturun. Bu sözlükte 5 kelime ve bu 5 kelimenin anlamları yer almalıdır. Klavyeden girilen anahtar (key) eğer sözlükte varsa kelimenin anlamı ekrana yazdırılmalıdır. Eğer anahtar sözlükte yoksa sözlükte aranan kelimenin olmadığı bilgisi ekrana yazdırılmalıdır."
      ],
      "metadata": {
        "id": "p49cZFjJcXoS"
      }
    },
    {
      "cell_type": "code",
      "execution_count": 39,
      "metadata": {
        "id": "3whYCDz3a8QZ",
        "outputId": "e83dc671-a6b5-4f00-e401-0ac8f44df3e2",
        "colab": {
          "base_uri": "https://localhost:8080/"
        }
      },
      "outputs": [
        {
          "output_type": "stream",
          "name": "stdout",
          "text": [
            "Anlamını öğrenmek istediğiniz kelimeyi girin: elma\n",
            "Yemiş bir meyve\n"
          ]
        }
      ],
      "source": [
        "#Soru 4 bu bölümde kodlanmalıdır\n",
        "sozluk = {\n",
        "    \"elma\": \"Yemiş bir meyve\",\n",
        "    \"masa\": \"Üzerinde çalışma yapılabilen mobilya\",\n",
        "    \"kitap\": \"Kağıt üzerine yazılmış, bağlı veya ciltli yazılar bütünü\",\n",
        "    \"kalem\": \"Yazı yazmaya yarayan araç\",\n",
        "    \"bilgisayar\": \"Bilgi işleme yeteneği olan elektronik cihaz\"\n",
        "}\n",
        "\n",
        "anahtar = input(\"Anlamını öğrenmek istediğiniz kelimeyi girin: \")\n",
        "\n",
        "if anahtar in sozluk:\n",
        "    print(sozluk[anahtar])\n",
        "else:\n",
        "    print(\"Sözlükte aradığınız kelime bulunamadı.\")\n",
        "\n"
      ]
    }
  ]
}