{
  "cells": [
    {
      "cell_type": "markdown",
      "metadata": {
        "id": "view-in-github",
        "colab_type": "text"
      },
      "source": [
        "<a href=\"https://colab.research.google.com/github/dogacelikk/hu-bby162-2024/blob/main/dogaliste.ipynb\" target=\"_parent\"><img src=\"https://colab.research.google.com/assets/colab-badge.svg\" alt=\"Open In Colab\"/></a>"
      ]
    },
    {
      "cell_type": "code",
      "execution_count": null,
      "metadata": {
        "colab": {
          "background_save": true,
          "base_uri": "https://localhost:8080/"
        },
        "id": "SUqfSt10-_wO",
        "outputId": "6fd0fba5-cce0-4213-e50c-5e9f712772ea"
      },
      "outputs": [
        {
          "name": "stdout",
          "output_type": "stream",
          "text": [
            "{'Çiçek': 'Flower', 'Su': 'Water', 'Araba': 'Car', 'Defter': 'Notebook', 'Krem': 'Cream', 'Oyuncak': 'Toy', 'Aslan': 'Lion', 'Yatak': 'Bed', 'Yağmur': 'Rain', 'Doğa': 'Nature'}\n"
          ]
        }
      ],
      "source": [
        "#Sözlük oluşturma\n",
        "sözlük = {\"Çiçek\": \"Flower\", \"Su\": \"Water\", \"Araba\": \"Car\", \"Defter\": \"Notebook\", \"Krem\": \"Cream\", \"Oyuncak\": \"Toy\", \"Aslan\": \"Lion\", \"Yatak\": \"Bed\", \"Yağmur\": \"Rain\", \"Doğa\": \"Nature\"}\n",
        "print(sözlük)"
      ]
    },
    {
      "cell_type": "code",
      "source": [
        "#Sözlüğe bir ögenin eklenmesi\n",
        "türkçe_kelime = input(\"Yeni bir türkçe kelime ekleyiniz: \")\n",
        "çevirisi = input(\"Yeni bir ingilizce kelime giriniz: \")\n",
        "sözlük[türkçe_kelime] = çevirisi\n",
        "print(sözlük)\n"
      ],
      "metadata": {
        "colab": {
          "base_uri": "https://localhost:8080/"
        },
        "id": "5fhxYbVJYepg",
        "outputId": "794ec2a0-e303-4f50-b0d8-c5924980fb9c"
      },
      "execution_count": 12,
      "outputs": [
        {
          "output_type": "stream",
          "name": "stdout",
          "text": [
            "Yeni bir türkçe kelime ekleyiniz: süt\n",
            "Yeni bir ingilizce kelime giriniz: milk\n",
            "{'Çiçek': 'Flower', 'Su': 'Water', 'Defter': 'Notebook', 'Krem': 'Cream', 'Oyuncak': 'Toy', 'Aslan': 'Lion', 'Yatak': 'Bed', 'Yağmur': 'Rain', 'Doğa': 'Nature', 'krem': 'crème', 'süt': 'milk'}\n"
          ]
        }
      ]
    },
    {
      "cell_type": "code",
      "source": [
        "#sözlükten bir ögenin silinmesi\n",
        "print(sözlük)\n",
        "silinecek = input(\"Silmek istediğiniz kelimeyi giriniz: \")\n",
        "print(\"Araba : \" + sözlük[silinecek])\n",
        "del sözlük[silinecek]\n",
        "print(\"Silme tamamlandı\")\n",
        "print(sözlük)\n"
      ],
      "metadata": {
        "colab": {
          "base_uri": "https://localhost:8080/"
        },
        "id": "ciqAV8GJYiAw",
        "outputId": "a83f4c98-4f7b-49f7-8141-12ff75f44ca0"
      },
      "execution_count": 6,
      "outputs": [
        {
          "output_type": "stream",
          "name": "stdout",
          "text": [
            "{'Çiçek': 'Flower', 'Su': 'Water', 'Araba': 'Car', 'Defter': 'Notebook', 'Krem': 'Cream', 'Oyuncak': 'Toy', 'Aslan': 'Lion', 'Yatak': 'Bed', 'Yağmur': 'Rain', 'Doğa': 'Nature', 'krem': 'crème'}\n",
            "Silmek istediğiniz kelimeyi giriniz: Araba\n",
            "Araba : Car\n",
            "Silme tamamlandı\n",
            "{'Çiçek': 'Flower', 'Su': 'Water', 'Defter': 'Notebook', 'Krem': 'Cream', 'Oyuncak': 'Toy', 'Aslan': 'Lion', 'Yatak': 'Bed', 'Yağmur': 'Rain', 'Doğa': 'Nature', 'krem': 'crème'}\n"
          ]
        }
      ]
    },
    {
      "cell_type": "code",
      "source": [
        "#sözlükte bir öğenin güncellenmesi\n",
        "sözlük = {\"Çiçek\": \"Flower\", \"Su\": \"Water\", \"Araba\": \"Car\", \"Defter\": \"Notebook\", \"Krem\": \"Cream\", \"Oyuncak\": \"Toy\", \"Aslan\": \"Lion\", \"Yatak\": \"Bed\", \"Yağmur\": \"Rain\", \"Doğa\": \"Nature\"}\n",
        "print(sözlük)\n",
        "guncellenecek = (input(\"Güncellemek istediğiniz kelimeyi giriniz: \"))\n",
        "guncelSozluk = input(\"Güncel kelime açıklamasını giriniz: \")\n",
        "sözlük[guncellenecek] = guncelSozluk\n",
        "print(\"Güncelleme tamamlandı\")\n",
        "print(sözlük)"
      ],
      "metadata": {
        "colab": {
          "base_uri": "https://localhost:8080/"
        },
        "id": "5KIDU3JgYksw",
        "outputId": "4264da3a-70b9-4be9-cbf0-a3d2cd6f885c"
      },
      "execution_count": 3,
      "outputs": [
        {
          "output_type": "stream",
          "name": "stdout",
          "text": [
            "{'Çiçek': 'Flower', 'Su': 'Water', 'Araba': 'Car', 'Defter': 'Notebook', 'Krem': 'Cream', 'Oyuncak': 'Toy', 'Aslan': 'Lion', 'Yatak': 'Bed', 'Yağmur': 'Rain', 'Doğa': 'Nature'}\n",
            "Güncellemek istediğiniz kelimeyi giriniz: krem\n",
            "Güncel kelime açıklamasını giriniz: crème\n",
            "Güncelleme tamamlandı\n",
            "{'Çiçek': 'Flower', 'Su': 'Water', 'Araba': 'Car', 'Defter': 'Notebook', 'Krem': 'Cream', 'Oyuncak': 'Toy', 'Aslan': 'Lion', 'Yatak': 'Bed', 'Yağmur': 'Rain', 'Doğa': 'Nature', 'krem': 'crème'}\n"
          ]
        }
      ]
    }
  ],
  "metadata": {
    "colab": {
      "provenance": [],
      "authorship_tag": "ABX9TyNREp4woMTp7gDU4S3VMGWi",
      "include_colab_link": true
    },
    "kernelspec": {
      "display_name": "Python 3",
      "name": "python3"
    },
    "language_info": {
      "name": "python"
    }
  },
  "nbformat": 4,
  "nbformat_minor": 0
}