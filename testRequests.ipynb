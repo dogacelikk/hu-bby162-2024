{
  "nbformat": 4,
  "nbformat_minor": 0,
  "metadata": {
    "colab": {
      "provenance": [],
      "authorship_tag": "ABX9TyNPSxqPSflD4BF0TTqVgFwo",
      "include_colab_link": true
    },
    "kernelspec": {
      "name": "python3",
      "display_name": "Python 3"
    },
    "language_info": {
      "name": "python"
    }
  },
  "cells": [
    {
      "cell_type": "markdown",
      "metadata": {
        "id": "view-in-github",
        "colab_type": "text"
      },
      "source": [
        "<a href=\"https://colab.research.google.com/github/dogacelikk/hu-bby162-2024/blob/main/testRequests.ipynb\" target=\"_parent\"><img src=\"https://colab.research.google.com/assets/colab-badge.svg\" alt=\"Open In Colab\"/></a>"
      ]
    },
    {
      "cell_type": "code",
      "source": [
        "import requests\n",
        "from bs4 import BeautifulSoup\n",
        "def web_spider(url):\n",
        "    response = requests.get(url)\n",
        "    soup = BeautifulSoup(response.content, \"html.parser\")\n",
        "    title = soup.title.string if soup.title else \"\"\n",
        "    for a in soup.find_all(\"a\", href=True):\n",
        "        print(f\"Title: {title}, URL: {a['href']}\")\n",
        "start_url = \"http://www.bby.hacettepe.edu.tr/\"\n",
        "web_spider(start_url)\n"
      ],
      "metadata": {
        "id": "2bzcinLOWSg-"
      },
      "execution_count": null,
      "outputs": []
    }
  ]
}