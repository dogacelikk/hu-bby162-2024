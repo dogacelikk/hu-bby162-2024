{
  "nbformat": 4,
  "nbformat_minor": 0,
  "metadata": {
    "colab": {
      "provenance": [],
      "authorship_tag": "ABX9TyPLISP2HwdxpbnHcpp16xin",
      "include_colab_link": true
    },
    "kernelspec": {
      "name": "python3",
      "display_name": "Python 3"
    },
    "language_info": {
      "name": "python"
    }
  },
  "cells": [
    {
      "cell_type": "markdown",
      "metadata": {
        "id": "view-in-github",
        "colab_type": "text"
      },
      "source": [
        "<a href=\"https://colab.research.google.com/github/dogacelikk/hu-bby162-2024/blob/main/TestBS4.ipynb\" target=\"_parent\"><img src=\"https://colab.research.google.com/assets/colab-badge.svg\" alt=\"Open In Colab\"/></a>"
      ]
    },
    {
      "cell_type": "code",
      "execution_count": 1,
      "metadata": {
        "colab": {
          "base_uri": "https://localhost:8080/"
        },
        "id": "Tu-q4zUPQT0p",
        "outputId": "6f8977e5-3ba0-456d-867d-641f2febe306"
      },
      "outputs": [
        {
          "output_type": "stream",
          "name": "stdout",
          "text": [
            "Başlık: Yeni Başlık\n",
            "Paragraf: Bu yeni bir paragraf.\n",
            "Link: https://www.example.com/\n"
          ]
        }
      ],
      "source": [
        "from bs4 import BeautifulSoup\n",
        "\n",
        "# Örnek HTML içeriği\n",
        "html_doc = \"\"\"\n",
        "<html>\n",
        "<head><title>Yeni Başlık</title></head>\n",
        "<body>\n",
        "    <p class=\"paragraf\">Bu yeni bir paragraf.</p>\n",
        "    <a href=\"https://www.example.com/\">Bir link</a>\n",
        "</body>\n",
        "</html>\n",
        "\"\"\"\n",
        "\n",
        "# BeautifulSoup nesnesi oluştur\n",
        "soup = BeautifulSoup(html_doc, 'html.parser')\n",
        "\n",
        "# Başlığı bul ve yazdır\n",
        "baslik = soup.title.string\n",
        "print(\"Başlık:\", baslik)\n",
        "\n",
        "# Paragrafı bul ve yazdır\n",
        "paragraf = soup.find('p', class_='paragraf').string\n",
        "print(\"Paragraf:\", paragraf)\n",
        "\n",
        "# Linki bul ve href özelliğini yazdır\n",
        "link = soup.find('a')['href']\n",
        "print(\"Link:\", link)\n"
      ]
    }
  ]
}