{
  "nbformat": 4,
  "nbformat_minor": 0,
  "metadata": {
    "colab": {
      "provenance": [],
      "authorship_tag": "ABX9TyPxhapihGvxUeUoc4arI5hJ",
      "include_colab_link": true
    },
    "kernelspec": {
      "name": "python3",
      "display_name": "Python 3"
    },
    "language_info": {
      "name": "python"
    }
  },
  "cells": [
    {
      "cell_type": "markdown",
      "metadata": {
        "id": "view-in-github",
        "colab_type": "text"
      },
      "source": [
        "<a href=\"https://colab.research.google.com/github/dogacelikk/hu-bby162-2024/blob/main/yemekmenusu.ipynb\" target=\"_parent\"><img src=\"https://colab.research.google.com/assets/colab-badge.svg\" alt=\"Open In Colab\"/></a>"
      ]
    },
    {
      "cell_type": "code",
      "execution_count": 46,
      "metadata": {
        "colab": {
          "base_uri": "https://localhost:8080/"
        },
        "id": "6034DKuWbN_f",
        "outputId": "3e9d2a05-63eb-4d33-e276-0ac8bae0ff37"
      },
      "outputs": [
        {
          "output_type": "stream",
          "name": "stdout",
          "text": [
            "Günün menüsü:\n",
            "pırasa\n",
            "kuru fasulye\n",
            "taze fasulye\n"
          ]
        }
      ],
      "source": [
        "import random\n",
        "yemekler = [\"pırasa\", \"tavuk\", \"pilav\", \"kuru fasulye\", \"salata\", \"taze fasulye\", \"kebap\", \"çorba\"]\n",
        "secilen_yemekler = []\n",
        "\n",
        "while len(secilen_yemekler) < 3:\n",
        "    secilen_yemek = random.choice(yemekler)\n",
        "    if secilen_yemek not in secilen_yemekler:\n",
        "        secilen_yemekler.append(secilen_yemek)\n",
        "print(\"Günün menüsü:\")\n",
        "for yemek in secilen_yemekler:\n",
        "    print(yemek)\n",
        "\n"
      ]
    }
  ]
}