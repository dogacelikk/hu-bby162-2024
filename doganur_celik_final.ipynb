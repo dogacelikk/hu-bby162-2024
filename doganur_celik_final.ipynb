{
  "nbformat": 4,
  "nbformat_minor": 0,
  "metadata": {
    "colab": {
      "provenance": [],
      "include_colab_link": true
    },
    "kernelspec": {
      "name": "python3",
      "display_name": "Python 3"
    },
    "language_info": {
      "name": "python"
    }
  },
  "cells": [
    {
      "cell_type": "markdown",
      "metadata": {
        "id": "view-in-github",
        "colab_type": "text"
      },
      "source": [
        "<a href=\"https://colab.research.google.com/github/dogacelikk/hu-bby162-2024/blob/main/doganur_celik_final.ipynb\" target=\"_parent\"><img src=\"https://colab.research.google.com/assets/colab-badge.svg\" alt=\"Open In Colab\"/></a>"
      ]
    },
    {
      "cell_type": "markdown",
      "source": [
        "**Final Sınavına hoşgeldiniz!**"
      ],
      "metadata": {
        "id": "ItmuxWgBbkC1"
      }
    },
    {
      "cell_type": "markdown",
      "source": [
        "Canlı final sınavı, bilgisayar laboratuvarında bilgisayar başında yapılan ve teslim edilen sınavı ifade etmektedir. Canlı final sınavında yazmış olduğunuz kodlar sizin sorumluluğunuzdadır ve gerekirse hangi kodu neden yazdığınızı açık bir şekilde anlatabilmeniz gerekmektedir. Canlı final sınavı sırasında İnternet üzerindeki kaynaklar kullanılabilir ancak başka bir kişiden destek alınamaz.\n",
        "\n",
        "Canlı final sınavının teslim şekli önceki sınav ve projelerin teslim şekli ile aynıdır. \"Final Sınavı\" adlı Colab not defterinin bir kopyasını çıkarmalı, size ait olan bu kopya üzerinde soruları cevaplamalı, GitHub'daki ders deponuza size ait kopyayı yüklemeli ve not defterinin adresini metin alanına yazarak göndermelisiniz.\n",
        "\n",
        "Canlı final sınavının doğru şekilde tamamlanması da sınavın önemli bir parçasıdır. Sınav için gönderdiğiniz adresi kontrol ediniz ve doğru dosyayı depoya yerleştirdiği bizden emin olunuz. Teslim sürecinde yapılan hatalar sınavdan 0 puan almanıza yol açabilir!\n",
        "\n",
        "**Sınav süresi 60 dakikadır!**\n",
        "\n",
        "Önemli Not: Soruları cecaplarken sadece şu ana kadar öğrendiğiniz kod yapılarını kullanmanız gerekmektedir!!!"
      ],
      "metadata": {
        "id": "KGjdjR5RbTgH"
      }
    },
    {
      "cell_type": "markdown",
      "source": [
        "**----- Sorular -----**"
      ],
      "metadata": {
        "id": "zBvdh4s8cOqM"
      }
    },
    {
      "cell_type": "markdown",
      "source": [
        "**Soru 1:** Kod bölümünde yer alan listeyi ekrana aşağıda gösterildiği şekilde \"for\" döngüsü kullanarak yazdırın. Her kelimenin başındaki numara otomatik olarak verilmelidir. (5 Puan)\n",
        "\n",
        "1.   Açık Erişim\n",
        "2.   Açık Bilim\n",
        "3.   Açık Veri\n",
        "4.   Açık Eğitim\n",
        "5.   Açık Kültür"
      ],
      "metadata": {
        "id": "ma0FVqgQiLBe"
      }
    },
    {
      "cell_type": "code",
      "source": [
        "#Soru 1 bu bölümde kodlanmalıdır\n",
        "acikListe = [\"Açık Erişim\", \"Açık Bilim\", \"Açık Veri\", \"Açık Eğitim\", \"Açık Kültür\"]\n",
        "for kelime in acikListe:\n",
        "    print(f\"{acikListe.index(kelime) + 1}. {kelime}\")\n",
        "\n",
        "\n",
        "\n"
      ],
      "metadata": {
        "id": "Fj7wkLMcjp_7",
        "outputId": "7e3f62f9-9a53-49a2-f09b-ed2fe05202b1",
        "colab": {
          "base_uri": "https://localhost:8080/"
        }
      },
      "execution_count": 29,
      "outputs": [
        {
          "output_type": "stream",
          "name": "stdout",
          "text": [
            "1. Açık Erişim\n",
            "2. Açık Bilim\n",
            "3. Açık Veri\n",
            "4. Açık Eğitim\n",
            "5. Açık Kültür\n"
          ]
        }
      ]
    },
    {
      "cell_type": "markdown",
      "source": [
        "**Soru 2:** Kod bölümünde yer alan boş sözlüğe klavyeden yeni veri ekleyecek kodu yazınız. Yeni veri hem anahtarı (key) hem de anahtara karşılık gelecek değerli (value) içermelidir. Veri girişi yapıldıktan sonra sözlüğün güncel hali de ekrana yazıdırılmalıdır. (5 Puan)"
      ],
      "metadata": {
        "id": "uZDiXJARgK4o"
      }
    },
    {
      "cell_type": "code",
      "source": [
        "#Soru 2 bu bölümde kodlanmalıdır\n",
        "sozluk = {}\n",
        "while True:\n",
        "    anahtar = input(\"Yeni anahtar gir (çıkmak için 'x' tuşuna bas): \")\n",
        "    if anahtar == 'x':\n",
        "        break\n",
        "    deger = input(\"Anahtara karşılık gelen değeri gir: \")\n",
        "    sozluk[anahtar] = deger\n",
        "\n",
        "print(\"Güncel sözlük:\", sozluk)"
      ],
      "metadata": {
        "id": "no7Zd1ZCh5U3",
        "outputId": "61c6f0c2-ea05-4405-b7d2-5b4e53c391f8",
        "colab": {
          "base_uri": "https://localhost:8080/"
        }
      },
      "execution_count": 28,
      "outputs": [
        {
          "output_type": "stream",
          "name": "stdout",
          "text": [
            "Yeni anahtar gir (çıkmak için 'x' tuşuna bas): x\n",
            "Güncel sözlük: {}\n"
          ]
        }
      ]
    },
    {
      "cell_type": "markdown",
      "source": [
        "**Soru 3:** Herhangi bir metin dosyasında (ör: [veri.txt](https://drive.google.com/file/d/1WVCEET3G3ishvIR-V6lCav7jBgaZLT-o/view?usp=sharing)) satır satır yer alan verileri okuyup ekrana satır satır yazdıracak kodu yazınız. (10 Puan)"
      ],
      "metadata": {
        "id": "HnIqbjcCeNEV"
      }
    },
    {
      "cell_type": "code",
      "source": [
        "#Soru 3 bu bölümde kodlanmalıdır\n",
        "from google.colab import drive\n",
        "drive.mount('/gdrive')\n",
        "dosya_yolu = \"/gdrive/My Drive/Colab Notebooks/dogasözlük.ipynb\"\n",
        "try:\n",
        "  with open(dosya_yolu, \"r\") as dosya:\n",
        "        for satir in dosya:\n",
        "            print(satir.strip())\n",
        "except FileNotFoundError:\n",
        "    print(\"Dosya bulunamadı.\")\n",
        "except Exception as e:\n",
        "    print(\"Bir hata oluştu:\", e)\n",
        "\n"
      ],
      "metadata": {
        "id": "SjzG5g3ffTyv",
        "outputId": "5405d7b1-d448-4ccf-d296-b994aa683771",
        "colab": {
          "base_uri": "https://localhost:8080/"
        }
      },
      "execution_count": 22,
      "outputs": [
        {
          "output_type": "stream",
          "name": "stdout",
          "text": [
            "Drive already mounted at /gdrive; to attempt to forcibly remount, call drive.mount(\"/gdrive\", force_remount=True).\n",
            "test\n"
          ]
        }
      ]
    },
    {
      "cell_type": "markdown",
      "source": [
        "**Soru 4:** Verilerin bir TXT dosyasında depolanabileceği basit bir adres defteri oluşturunuz. Adres defterindeki öğeler Ad-Soyad ve e-Posta olacaktır. Bu adres desteri uygulamasında bir menü yapısı (uygulama içinde fonksiyolar) olmalıdır. 1. seçenek adres defterindeki girişleri göstermeli, 2. seçenek adres defterine yeni veri eklemeli, 3. seçenek ise uygulamayı sonlandırmalıdır. (20 Puan)"
      ],
      "metadata": {
        "id": "p49cZFjJcXoS"
      }
    },
    {
      "cell_type": "code",
      "execution_count": null,
      "metadata": {
        "id": "3whYCDz3a8QZ"
      },
      "outputs": [],
      "source": [
        "#Soru 4 bu bölümde kodlanmalıdır\n",
        "def adres_defteri_goster():\n",
        "    dosya = open(\"adres_defteri.txt\", \"r\")\n",
        "    icerik = dosya.read()\n",
        "    if icerik:\n",
        "        print(\"Adres Defteri:\")\n",
        "        print(icerik)\n",
        "    else:\n",
        "        print(\"Adres defteri boş.\")\n",
        "    dosya.close()\n",
        "\n",
        "def adres_defteri_ekle():\n",
        "    ad = input(\"Adınızı girin: \")\n",
        "    soyad = input(\"Soyadınızı girin: \")\n",
        "    email = input(\"E-Posta girin: \")\n",
        "\n",
        "    dosya = open(\"adres_defteri.txt\", \"a\")\n",
        "    dosya.write(f\"{ad}, {soyad}, {email}\\n\")\n",
        "    print(\"Yeni kayıt eklendi.\")\n",
        "    dosya.close()\n",
        "\n",
        "while True:\n",
        "    print(\"\\nAdres Defteri Uygulaması\")\n",
        "    print(\"1. Adres defterini göster\")\n",
        "    print(\"2. Yeni veri ekle\")\n",
        "    print(\"3. Çıkış\")\n",
        "\n",
        "    secim = input(\"Seçiminizi yapın: \")\n",
        "\n",
        "    if secim == '1':\n",
        "        adres_defteri_goster()\n",
        "    elif secim == '2':\n",
        "        adres_defteri_ekle()\n",
        "    elif secim == '3':\n",
        "        print(\"Programdan çıkılıyor...\")\n",
        "        break\n",
        "    else:\n",
        "        print(\"Geçersiz seçenek. Tekrar deneyin.\")"
      ]
    }
  ]
}